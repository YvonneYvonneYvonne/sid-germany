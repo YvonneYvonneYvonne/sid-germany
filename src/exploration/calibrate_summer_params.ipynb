{
 "cells": [
  {
   "cell_type": "code",
   "execution_count": 1,
   "id": "d70d911d",
   "metadata": {},
   "outputs": [],
   "source": [
    "import itertools\n",
    "import warnings\n",
    "from time import time\n",
    "\n",
    "import matplotlib.pyplot as plt\n",
    "import numpy as np\n",
    "import pandas as pd\n",
    "import seaborn as sns\n",
    "\n",
    "from src.config import BLD, SRC\n",
    "from src.estimation.gridsearch import (\n",
    "    get_mask_around_diagonal,\n",
    "    run_1d_gridsearch,\n",
    "    run_2d_gridsearch,\n",
    ")\n",
    "from src.estimation.msm_criterion import (\n",
    "    get_index_bundles,\n",
    "    get_parallelizable_msm_criterion,\n",
    ")\n",
    "from src.manfred.shared import hash_array\n",
    "from src.plotting.msm_plots import plot_estimation_moment, plot_infection_channels\n",
    "from src.simulation.load_params import load_params\n",
    "from src.simulation.load_simulation_inputs import load_simulation_inputs\n",
    "\n",
    "# -----------------------------------------------------------------------------------\n",
    "\n",
    "DEBUG = False\n",
    "prefix = \"delta\"\n",
    "\n",
    "# -----------------------------------------------------------------------------------\n",
    "\n",
    "\n",
    "FALL_SIM_START = pd.Timestamp(\"2021-04-11\")  # spring end is 2021-04-10\n",
    "FALL_SIM_END = pd.Timestamp(\"2021-07-01\")\n",
    "\n",
    "SPRING_SIM_START = pd.Timestamp(\"2021-07-02\")  # summer end. not used\n",
    "SPRING_SIM_END = pd.Timestamp(\"2021-08-26\")  # not used\n",
    "\n",
    "if DEBUG:\n",
    "    FALL_SIM_END = FALL_SIM_START + pd.Timedelta(days=3)\n",
    "    SPRING_SIM_END = SPRING_SIM_START + pd.Timedelta(days=3)\n",
    "\n",
    "warnings.filterwarnings(\n",
    "    \"ignore\", message=\"indexing past lexsort depth may impact performance.\"\n",
    ")\n",
    "\n",
    "# %load_ext snakeviz"
   ]
  },
  {
   "cell_type": "markdown",
   "id": "25d99002",
   "metadata": {},
   "source": [
    "# Load the simulation inputs"
   ]
  },
  {
   "cell_type": "code",
   "execution_count": 2,
   "id": "52db04ba",
   "metadata": {},
   "outputs": [],
   "source": [
    "params = load_params(\"baseline\")\n",
    "\n",
    "pmsm = get_parallelizable_msm_criterion(\n",
    "    prefix=prefix,\n",
    "    fall_start_date=FALL_SIM_START,\n",
    "    fall_end_date=FALL_SIM_END,\n",
    "    spring_start_date=SPRING_SIM_START,\n",
    "    spring_end_date=SPRING_SIM_END,\n",
    "    mode=\"fall\",\n",
    "    debug=DEBUG,\n",
    ")"
   ]
  },
  {
   "cell_type": "markdown",
   "id": "29063227",
   "metadata": {},
   "source": [
    "# Modify Params"
   ]
  },
  {
   "cell_type": "code",
   "execution_count": 3,
   "id": "c09ccba8",
   "metadata": {},
   "outputs": [
    {
     "data": {
      "text/html": [
       "<div>\n",
       "<style scoped>\n",
       "    .dataframe tbody tr th:only-of-type {\n",
       "        vertical-align: middle;\n",
       "    }\n",
       "\n",
       "    .dataframe tbody tr th {\n",
       "        vertical-align: top;\n",
       "    }\n",
       "\n",
       "    .dataframe thead th {\n",
       "        text-align: right;\n",
       "    }\n",
       "</style>\n",
       "<table border=\"1\" class=\"dataframe\">\n",
       "  <thead>\n",
       "    <tr style=\"text-align: right;\">\n",
       "      <th></th>\n",
       "      <th></th>\n",
       "      <th></th>\n",
       "      <th>value</th>\n",
       "    </tr>\n",
       "    <tr>\n",
       "      <th>category</th>\n",
       "      <th>subcategory</th>\n",
       "      <th>name</th>\n",
       "      <th></th>\n",
       "    </tr>\n",
       "  </thead>\n",
       "  <tbody>\n",
       "    <tr>\n",
       "      <th>events</th>\n",
       "      <th>delta_cases_per_100_000</th>\n",
       "      <th>2021-05-15</th>\n",
       "      <td>0.10</td>\n",
       "    </tr>\n",
       "    <tr>\n",
       "      <th rowspan=\"2\" valign=\"top\">rapid_test_demand</th>\n",
       "      <th rowspan=\"2\" valign=\"top\">low_incidence_factor</th>\n",
       "      <th>other_demand</th>\n",
       "      <td>0.25</td>\n",
       "    </tr>\n",
       "    <tr>\n",
       "      <th>worker_demand</th>\n",
       "      <td>0.25</td>\n",
       "    </tr>\n",
       "  </tbody>\n",
       "</table>\n",
       "</div>"
      ],
      "text/plain": [
       "                                                         value\n",
       "category          subcategory             name                \n",
       "events            delta_cases_per_100_000 2021-05-15      0.10\n",
       "rapid_test_demand low_incidence_factor    other_demand    0.25\n",
       "                                          worker_demand   0.25"
      ]
     },
     "execution_count": 3,
     "metadata": {},
     "output_type": "execute_result"
    }
   ],
   "source": [
    "delta_params = [(\"events\", \"delta_cases_per_100_000\", \"2021-05-15\")]\n",
    "rapid_reduc_params = [\n",
    "    (\"rapid_test_demand\", \"low_incidence_factor\", \"other_demand\"),\n",
    "    (\"rapid_test_demand\", \"low_incidence_factor\", \"worker_demand\"),\n",
    "]\n",
    "\n",
    "free_params = delta_params + rapid_reduc_params\n",
    "\n",
    "# Set some free parameters-----------------------------------------------------------\n",
    "\n",
    "# params.loc[delta_params] = 0.1\n",
    "\n",
    "# -----------------------------------------------------------------------------------\n",
    "\n",
    "params.loc[free_params]"
   ]
  },
  {
   "cell_type": "markdown",
   "id": "f5a7798b",
   "metadata": {},
   "source": [
    "# Specify Grid"
   ]
  },
  {
   "cell_type": "code",
   "execution_count": 4,
   "id": "313fe531",
   "metadata": {},
   "outputs": [],
   "source": [
    "dimensions = \"1d\"\n",
    "\n",
    "n_gridpoints = 10 if not DEBUG else 1\n",
    "loc1 = delta_params\n",
    "\n",
    "# -----------------------------------------------------------------------------------\n",
    "\n",
    "gridspec1 = (0.01, 0.12, n_gridpoints)\n",
    "OUT_PATH = BLD / \"simulation\" / f\"calibration_{prefix}_001_to_012_8\"\n",
    "OUT_PATH.mkdir(parents=True)\n",
    "\n",
    "# -----------------------------------------------------------------------------------\n",
    "\n",
    "loc2 = None\n",
    "gridspec2 = (\"low\", \"high\", n_gridpoints)\n",
    "\n",
    "n_seeds = 20 if not DEBUG else 1\n",
    "n_cores = 40 if not DEBUG else 1\n",
    "mask = None"
   ]
  },
  {
   "cell_type": "code",
   "execution_count": 5,
   "id": "06996dc0-51cd-4158-bb73-627b4f7ccf13",
   "metadata": {},
   "outputs": [],
   "source": [
    "initial_states_path = (\n",
    "    str(BLD / \"simulations\" / \"last_states\") + \"/verify_spring_baseline_{seed}.pkl\"\n",
    ")"
   ]
  },
  {
   "cell_type": "markdown",
   "id": "9af4d486",
   "metadata": {},
   "source": [
    "# Run estimation"
   ]
  },
  {
   "cell_type": "code",
   "execution_count": null,
   "id": "8389bbb7",
   "metadata": {},
   "outputs": [
    {
     "name": "stdout",
     "output_type": "stream",
     "text": [
      "2021-09-01 05:50:33.271594\n"
     ]
    },
    {
     "name": "stderr",
     "output_type": "stream",
     "text": [
      "Resume the simulation...\n",
      "2021-04-11:   0%|          | 0/82 [00:00<?, ?it/s]Resume the simulation...\n",
      "Resume the simulation...\n",
      "2021-04-11:   0%|          | 0/82 [00:00<?, ?it/s]Resume the simulation...\n",
      "2021-04-11:   0%|          | 0/82 [00:00<?, ?it/s]Resume the simulation...\n",
      "2021-04-11:   0%|          | 0/82 [00:00<?, ?it/s]Resume the simulation...\n",
      "2021-04-11:   0%|          | 0/82 [00:00<?, ?it/s]Resume the simulation...\n",
      "2021-04-11:   0%|          | 0/82 [00:00<?, ?it/s]Resume the simulation...\n",
      "2021-04-11:   0%|          | 0/82 [00:00<?, ?it/s]Resume the simulation...\n",
      "2021-04-11:   0%|          | 0/82 [00:00<?, ?it/s]Resume the simulation...\n",
      "2021-04-11:   0%|          | 0/82 [00:00<?, ?it/s]Resume the simulation...\n",
      "2021-04-11:   0%|          | 0/82 [00:00<?, ?it/s]Resume the simulation...\n",
      "2021-04-11:   0%|          | 0/82 [00:00<?, ?it/s]Resume the simulation...\n",
      "2021-04-11:   0%|          | 0/82 [00:00<?, ?it/s]Resume the simulation...\n",
      "2021-04-11:   0%|          | 0/82 [00:00<?, ?it/s]Resume the simulation...\n",
      "2021-04-11:   0%|          | 0/82 [00:00<?, ?it/s]Resume the simulation...\n",
      "2021-04-11:   0%|          | 0/82 [00:00<?, ?it/s]Resume the simulation...\n",
      "2021-04-11:   0%|          | 0/82 [00:00<?, ?it/s]Resume the simulation...\n",
      "2021-04-11:   0%|          | 0/82 [00:00<?, ?it/s]Resume the simulation...\n",
      "2021-04-11:   0%|          | 0/82 [00:00<?, ?it/s]Resume the simulation...\n",
      "2021-04-14:   4%|▎         | 3/82 [00:34<14:39, 11.14s/it]Resume the simulation...\n",
      "2021-04-11:   0%|          | 0/82 [00:00<?, ?it/s]Resume the simulation...\n",
      "2021-04-11:   0%|          | 0/82 [00:00<?, ?it/s]Resume the simulation...\n",
      "2021-04-11:   0%|          | 0/82 [00:00<?, ?it/s]Resume the simulation...\n",
      "2021-04-11:   0%|          | 0/82 [00:00<?, ?it/s]Resume the simulation...\n",
      "2021-04-11:   0%|          | 0/82 [00:00<?, ?it/s]Resume the simulation...\n",
      "2021-04-14:   4%|▎         | 3/82 [00:39<17:20, 13.17s/it]Resume the simulation...\n",
      "2021-04-11:   0%|          | 0/82 [00:00<?, ?it/s]Resume the simulation...\n",
      "2021-04-11:   0%|          | 0/82 [00:00<?, ?it/s]Resume the simulation...\n",
      "2021-04-14:   4%|▎         | 3/82 [00:39<16:50, 12.79s/it]Resume the simulation...\n",
      "2021-04-14:   4%|▎         | 3/82 [00:39<16:36, 12.62s/it]Resume the simulation...\n",
      "2021-04-14:   4%|▎         | 3/82 [00:39<16:41, 12.67s/it]Resume the simulation...\n",
      "2021-04-14:   4%|▎         | 3/82 [00:42<19:17, 14.65s/it]Resume the simulation...\n",
      "2021-04-14:   4%|▎         | 3/82 [00:49<22:23, 17.00s/it]Resume the simulation...\n",
      "2021-04-12:   1%|          | 1/82 [00:14<19:27, 14.41s/it]Resume the simulation...\n",
      "2021-04-11:   0%|          | 0/82 [00:00<?, ?it/s]Resume the simulation...\n",
      "2021-04-11:   0%|          | 0/82 [00:00<?, ?it/s]Resume the simulation...\n",
      "2021-04-11:   0%|          | 0/82 [00:00<?, ?it/s]Resume the simulation...\n",
      "2021-04-12:   1%|          | 1/82 [00:14<19:28, 14.42s/it]Resume the simulation...\n",
      "2021-04-16:   6%|▌         | 5/82 [00:58<14:49, 11.55s/it]Resume the simulation...\n",
      "2021-04-26:  18%|█▊        | 15/82 [03:36<17:17, 15.49s/it]"
     ]
    }
   ],
   "source": [
    "start_time = pd.Timestamp.now()\n",
    "print(start_time)\n",
    "\n",
    "if dimensions == \"2d\":\n",
    "    results, grid, best_index, fig = run_2d_gridsearch(\n",
    "        func=pmsm,\n",
    "        params=params,\n",
    "        loc1=loc1,\n",
    "        gridspec1=gridspec1,\n",
    "        loc2=loc2,\n",
    "        gridspec2=gridspec2,\n",
    "        n_seeds=n_seeds,\n",
    "        n_cores=n_cores,\n",
    "        mask=mask,\n",
    "        initial_states_path=initial_states_path,\n",
    "    )\n",
    "else:\n",
    "    results, grid, best_index, fig = run_1d_gridsearch(\n",
    "        func=pmsm,\n",
    "        params=params,\n",
    "        loc=loc1,\n",
    "        gridspec=gridspec1,\n",
    "        n_seeds=n_seeds,\n",
    "        n_cores=n_cores,\n",
    "        initial_states_path=initial_states_path,\n",
    "    )\n",
    "\n",
    "end_time = pd.Timestamp.now()"
   ]
  },
  {
   "cell_type": "code",
   "execution_count": null,
   "id": "cf4915b2-d65b-4a44-829d-2f53a94499d7",
   "metadata": {},
   "outputs": [],
   "source": [
    "print(end_time - start_time)"
   ]
  },
  {
   "cell_type": "code",
   "execution_count": null,
   "id": "2ba4eb38",
   "metadata": {},
   "outputs": [],
   "source": [
    "pd.to_pickle(results, OUT_PATH / \"delta_results.pkl\")"
   ]
  },
  {
   "cell_type": "code",
   "execution_count": null,
   "id": "bb558291-006b-4644-a54b-fc8c63e210bf",
   "metadata": {},
   "outputs": [],
   "source": [
    "import os\n",
    "\n",
    "os.listdir(\"/home/klara/disk/sid-germany/bld/simulations/last_states\")"
   ]
  },
  {
   "cell_type": "markdown",
   "id": "ebae7b19",
   "metadata": {},
   "source": [
    "# Plot Criterion Values"
   ]
  },
  {
   "cell_type": "code",
   "execution_count": null,
   "id": "24f0c330",
   "metadata": {},
   "outputs": [],
   "source": [
    "fig\n",
    "fig.savefig(OUT_PATH / \"x_to_criterion.pdf\")"
   ]
  },
  {
   "cell_type": "markdown",
   "id": "a5439a57",
   "metadata": {},
   "source": [
    "# Plot Delta Shares"
   ]
  },
  {
   "cell_type": "code",
   "execution_count": null,
   "id": "5e3ac2d3",
   "metadata": {},
   "outputs": [],
   "source": [
    "for g, res in zip(grid, results):\n",
    "    print(g)\n",
    "    fig = plot_estimation_moment(res, \"aggregated_delta_share\")\n",
    "    fig.savefig(OUT_PATH / f\"delta_share_{g}.pdf\")"
   ]
  },
  {
   "cell_type": "markdown",
   "id": "6ac0f255",
   "metadata": {},
   "source": [
    "# Plot Case Numbers"
   ]
  },
  {
   "cell_type": "code",
   "execution_count": null,
   "id": "3aa21f04",
   "metadata": {},
   "outputs": [],
   "source": [
    "ix = best_index\n",
    "fig = plot_estimation_moment(results[ix], \"aggregated_infections_not_log\")\n",
    "fig.savefig(OUT_PATH / f\"cases_best_{grid[ix]}.pdf\")"
   ]
  },
  {
   "cell_type": "code",
   "execution_count": null,
   "id": "5fa85c95",
   "metadata": {},
   "outputs": [],
   "source": [
    "plot_estimation_moment(results[ix], \"infections_by_age_group\")"
   ]
  },
  {
   "cell_type": "code",
   "execution_count": null,
   "id": "9797c881",
   "metadata": {},
   "outputs": [],
   "source": [
    "results[0][0].keys()"
   ]
  },
  {
   "cell_type": "code",
   "execution_count": null,
   "id": "fb29be0f",
   "metadata": {},
   "outputs": [],
   "source": [
    "results[0][0][\"simulated_moments\"].keys()"
   ]
  },
  {
   "cell_type": "code",
   "execution_count": null,
   "id": "074de09c",
   "metadata": {},
   "outputs": [],
   "source": []
  },
  {
   "cell_type": "code",
   "execution_count": null,
   "id": "e9683f4b",
   "metadata": {},
   "outputs": [],
   "source": []
  },
  {
   "cell_type": "code",
   "execution_count": null,
   "id": "314748ea",
   "metadata": {},
   "outputs": [],
   "source": []
  }
 ],
 "metadata": {
  "kernelspec": {
   "display_name": "Python 3 (ipykernel)",
   "language": "python",
   "name": "python3"
  },
  "language_info": {
   "codemirror_mode": {
    "name": "ipython",
    "version": 3
   },
   "file_extension": ".py",
   "mimetype": "text/x-python",
   "name": "python",
   "nbconvert_exporter": "python",
   "pygments_lexer": "ipython3",
   "version": "3.8.10"
  }
 },
 "nbformat": 4,
 "nbformat_minor": 5
}
