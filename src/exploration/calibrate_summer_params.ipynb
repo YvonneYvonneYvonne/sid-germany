{
 "cells": [
  {
   "cell_type": "code",
   "execution_count": 1,
   "id": "d70d911d",
   "metadata": {},
   "outputs": [],
   "source": [
    "import itertools\n",
    "import warnings\n",
    "from time import time\n",
    "\n",
    "import matplotlib.pyplot as plt\n",
    "import numpy as np\n",
    "import pandas as pd\n",
    "import seaborn as sns\n",
    "\n",
    "from src.config import BLD, SRC\n",
    "from src.estimation.gridsearch import (\n",
    "    get_mask_around_diagonal,\n",
    "    run_1d_gridsearch,\n",
    "    run_2d_gridsearch,\n",
    ")\n",
    "from src.estimation.msm_criterion import (\n",
    "    get_index_bundles,\n",
    "    get_parallelizable_msm_criterion,\n",
    ")\n",
    "from src.manfred.shared import hash_array\n",
    "from src.plotting.msm_plots import plot_estimation_moment, plot_infection_channels\n",
    "from src.simulation.load_params import load_params\n",
    "from src.simulation.load_simulation_inputs import load_simulation_inputs\n",
    "\n",
    "# -----------------------------------------------------------------------------------\n",
    "\n",
    "DEBUG = True\n",
    "prefix = \"delta\"\n",
    "\n",
    "# -----------------------------------------------------------------------------------\n",
    "\n",
    "\n",
    "FALL_SIM_START = pd.Timestamp(\"2021-04-11\")  # coincides with spring end!\n",
    "FALL_SIM_END = pd.Timestamp(\"2021-07-01\")\n",
    "\n",
    "SPRING_SIM_START = pd.Timestamp(\"2021-07-02\")\n",
    "SPRING_SIM_END = pd.Timestamp(\"2021-08-26\")\n",
    "\n",
    "if DEBUG:\n",
    "    FALL_SIM_END = FALL_SIM_START + pd.Timedelta(days=3)\n",
    "    SPRING_SIM_END = SPRING_SIM_START + pd.Timedelta(days=3)\n",
    "\n",
    "warnings.filterwarnings(\n",
    "    \"ignore\", message=\"indexing past lexsort depth may impact performance.\"\n",
    ")\n",
    "%load_ext snakeviz"
   ]
  },
  {
   "cell_type": "markdown",
   "id": "25d99002",
   "metadata": {},
   "source": [
    "# Load the simulation inputs"
   ]
  },
  {
   "cell_type": "code",
   "execution_count": 2,
   "id": "52db04ba",
   "metadata": {},
   "outputs": [],
   "source": [
    "params = load_params(\"baseline\")\n",
    "\n",
    "pmsm = get_parallelizable_msm_criterion(\n",
    "    prefix=prefix,\n",
    "    fall_start_date=FALL_SIM_START,\n",
    "    fall_end_date=FALL_SIM_END,\n",
    "    spring_start_date=SPRING_SIM_START,\n",
    "    spring_end_date=SPRING_SIM_END,\n",
    "    mode=\"fall\",\n",
    "    debug=DEBUG,\n",
    ")"
   ]
  },
  {
   "cell_type": "markdown",
   "id": "29063227",
   "metadata": {},
   "source": [
    "# Modify Params"
   ]
  },
  {
   "cell_type": "code",
   "execution_count": 3,
   "id": "c09ccba8",
   "metadata": {},
   "outputs": [
    {
     "data": {
      "text/html": [
       "<div>\n",
       "<style scoped>\n",
       "    .dataframe tbody tr th:only-of-type {\n",
       "        vertical-align: middle;\n",
       "    }\n",
       "\n",
       "    .dataframe tbody tr th {\n",
       "        vertical-align: top;\n",
       "    }\n",
       "\n",
       "    .dataframe thead th {\n",
       "        text-align: right;\n",
       "    }\n",
       "</style>\n",
       "<table border=\"1\" class=\"dataframe\">\n",
       "  <thead>\n",
       "    <tr style=\"text-align: right;\">\n",
       "      <th></th>\n",
       "      <th></th>\n",
       "      <th></th>\n",
       "      <th>value</th>\n",
       "    </tr>\n",
       "    <tr>\n",
       "      <th>category</th>\n",
       "      <th>subcategory</th>\n",
       "      <th>name</th>\n",
       "      <th></th>\n",
       "    </tr>\n",
       "  </thead>\n",
       "  <tbody>\n",
       "    <tr>\n",
       "      <th>events</th>\n",
       "      <th>delta_cases_per_100_000</th>\n",
       "      <th>2021-06-01</th>\n",
       "      <td>0.20</td>\n",
       "    </tr>\n",
       "    <tr>\n",
       "      <th rowspan=\"2\" valign=\"top\">rapid_test_demand</th>\n",
       "      <th rowspan=\"2\" valign=\"top\">low_incidence_factor</th>\n",
       "      <th>other_demand</th>\n",
       "      <td>0.25</td>\n",
       "    </tr>\n",
       "    <tr>\n",
       "      <th>worker_demand</th>\n",
       "      <td>0.25</td>\n",
       "    </tr>\n",
       "    <tr>\n",
       "      <th>additional_other_vacation_contact</th>\n",
       "      <th>probability</th>\n",
       "      <th>Sommerferien2021</th>\n",
       "      <td>0.50</td>\n",
       "    </tr>\n",
       "  </tbody>\n",
       "</table>\n",
       "</div>"
      ],
      "text/plain": [
       "                                                                            value\n",
       "category                          subcategory             name                   \n",
       "events                            delta_cases_per_100_000 2021-06-01         0.20\n",
       "rapid_test_demand                 low_incidence_factor    other_demand       0.25\n",
       "                                                          worker_demand      0.25\n",
       "additional_other_vacation_contact probability             Sommerferien2021   0.50"
      ]
     },
     "execution_count": 3,
     "metadata": {},
     "output_type": "execute_result"
    }
   ],
   "source": [
    "delta_params = [(\"events\", \"delta_cases_per_100_000\", \"2021-06-01\")]\n",
    "rapid_reduc_params = [\n",
    "    (\"rapid_test_demand\", \"low_incidence_factor\", \"other_demand\"),\n",
    "    (\"rapid_test_demand\", \"low_incidence_factor\", \"worker_demand\"),\n",
    "]\n",
    "vacation_prob_params = [\n",
    "    (\"additional_other_vacation_contact\", \"probability\", \"Sommerferien2021\")\n",
    "]\n",
    "\n",
    "free_params = delta_params + rapid_reduc_params + vacation_prob_params\n",
    "\n",
    "# -----------------------------------------------------------------------------------\n",
    "params.loc[delta_params] = 0.2\n",
    "# -----------------------------------------------------------------------------------\n",
    "\n",
    "params.loc[free_params]"
   ]
  },
  {
   "cell_type": "markdown",
   "id": "f5a7798b",
   "metadata": {},
   "source": [
    "# Specify Grid"
   ]
  },
  {
   "cell_type": "code",
   "execution_count": 4,
   "id": "313fe531",
   "metadata": {},
   "outputs": [],
   "source": [
    "dimensions = \"1d\"\n",
    "\n",
    "n_gridpoints = 10 if not DEBUG else 1\n",
    "loc1 = delta_params\n",
    "gridspec1 = (0.1, 0.25, n_gridpoints)\n",
    "\n",
    "loc2 = None\n",
    "gridspec2 = (\"low\", \"high\", n_gridpoints)\n",
    "\n",
    "n_seeds = 20 if not DEBUG else 1\n",
    "n_cores = 40 if not DEBUG else 1\n",
    "mask = None"
   ]
  },
  {
   "cell_type": "markdown",
   "id": "9af4d486",
   "metadata": {},
   "source": [
    "# Run estimation"
   ]
  },
  {
   "cell_type": "code",
   "execution_count": 5,
   "id": "8389bbb7",
   "metadata": {
    "scrolled": false
   },
   "outputs": [
    {
     "name": "stderr",
     "output_type": "stream",
     "text": [
      "Start the simulation...\n",
      "2021-04-14: 100%|███████████████████████████████████████| 4/4 [00:04<00:00,  1.11s/it]\n",
      "Start the simulation...\n",
      "2021-04-14: 100%|███████████████████████████████████████| 4/4 [00:02<00:00,  1.50it/s]\n"
     ]
    }
   ],
   "source": [
    "if dimensions == \"2d\":\n",
    "    results, grid, best_index, fig = run_2d_gridsearch(\n",
    "        func=pmsm,\n",
    "        params=params,\n",
    "        loc1=loc1,\n",
    "        gridspec1=gridspec1,\n",
    "        loc2=loc2,\n",
    "        gridspec2=gridspec2,\n",
    "        n_seeds=n_seeds,\n",
    "        n_cores=n_cores,\n",
    "        mask=mask,\n",
    "    )\n",
    "else:\n",
    "    results, grid, best_index, fig = run_1d_gridsearch(\n",
    "        func=pmsm,\n",
    "        params=params,\n",
    "        loc=loc1,\n",
    "        gridspec=gridspec1,\n",
    "        n_seeds=n_seeds,\n",
    "        n_cores=n_cores,\n",
    "    )"
   ]
  },
  {
   "cell_type": "code",
   "execution_count": 6,
   "id": "2ba4eb38",
   "metadata": {},
   "outputs": [],
   "source": [
    "pd.to_pickle(results, \"results.pkl\")"
   ]
  },
  {
   "cell_type": "markdown",
   "id": "ebae7b19",
   "metadata": {},
   "source": [
    "# Plot Criterion Values"
   ]
  },
  {
   "cell_type": "code",
   "execution_count": 7,
   "id": "24f0c330",
   "metadata": {},
   "outputs": [
    {
     "data": {
      "image/png": "[encoded data removed]",
      "text/plain": [
       "<Figure size 360x288 with 1 Axes>"
      ]
     },
     "execution_count": 7,
     "metadata": {},
     "output_type": "execute_result"
    }
   ],
   "source": [
    "fig"
   ]
  },
  {
   "cell_type": "markdown",
   "id": "a5439a57",
   "metadata": {},
   "source": [
    "# Plot Delta Shares"
   ]
  },
  {
   "cell_type": "code",
   "execution_count": 8,
   "id": "5e3ac2d3",
   "metadata": {},
   "outputs": [
    {
     "name": "stdout",
     "output_type": "stream",
     "text": [
      "0.1\n",
      "0.25\n"
     ]
    }
   ],
   "source": [
    "for g, res in zip(grid, results):\n",
    "    print(g)\n",
    "    plot_estimation_moment(res, \"aggregated_delta_share\")"
   ]
  },
  {
   "cell_type": "markdown",
   "id": "6ac0f255",
   "metadata": {},
   "source": [
    "# Plot Case Numbers"
   ]
  },
  {
   "cell_type": "code",
   "execution_count": 9,
   "id": "3aa21f04",
   "metadata": {},
   "outputs": [
    {
     "data": {
      "image/png": "[encoded data removed]",
      "text/plain": [
       "<Figure size 720x576 with 1 Axes>"
      ]
     },
     "execution_count": 9,
     "metadata": {},
     "output_type": "execute_result"
    }
   ],
   "source": [
    "ix = best_index\n",
    "plot_estimation_moment(results[ix], \"aggregated_infections_not_log\")"
   ]
  },
  {
   "cell_type": "code",
   "execution_count": 10,
   "id": "5fa85c95",
   "metadata": {},
   "outputs": [
    {
     "data": {
      "image/png": "[encoded data removed]",
      "text/plain": [
       "<Figure size 972x1296 with 6 Axes>"
      ]
     },
     "execution_count": 10,
     "metadata": {},
     "output_type": "execute_result"
    }
   ],
   "source": [
    "plot_estimation_moment(results[ix], \"infections_by_age_group\")"
   ]
  },
  {
   "cell_type": "code",
   "execution_count": 11,
   "id": "9797c881",
   "metadata": {},
   "outputs": [
    {
     "data": {
      "text/plain": [
       "dict_keys(['value', 'root_contributions', 'empirical_moments', 'simulated_moments', 'infection_channels', 'share_known_cases'])"
      ]
     },
     "execution_count": 11,
     "metadata": {},
     "output_type": "execute_result"
    }
   ],
   "source": [
    "results[0][0].keys()"
   ]
  },
  {
   "cell_type": "code",
   "execution_count": 12,
   "id": "fb29be0f",
   "metadata": {},
   "outputs": [
    {
     "data": {
      "text/plain": [
       "dict_keys(['infections_by_age_group', 'aggregated_deaths', 'infections_by_state', 'aggregated_infections', 'infection_channels', 'currently_infected_by_age_group', 'knows_currently_infected_by_age_group', 'aggregated_infections_not_log', 'aggregated_b117_share', 'aggregated_delta_share'])"
      ]
     },
     "execution_count": 12,
     "metadata": {},
     "output_type": "execute_result"
    }
   ],
   "source": [
    "results[0][0][\"simulated_moments\"].keys()"
   ]
  },
  {
   "cell_type": "code",
   "execution_count": null,
   "id": "074de09c",
   "metadata": {},
   "outputs": [],
   "source": []
  },
  {
   "cell_type": "code",
   "execution_count": null,
   "id": "e9683f4b",
   "metadata": {},
   "outputs": [],
   "source": []
  },
  {
   "cell_type": "code",
   "execution_count": null,
   "id": "314748ea",
   "metadata": {},
   "outputs": [],
   "source": []
  }
 ],
 "metadata": {
  "kernelspec": {
   "display_name": "Python 3 (ipykernel)",
   "language": "python",
   "name": "python3"
  },
  "language_info": {
   "codemirror_mode": {
    "name": "ipython",
    "version": 3
   },
   "file_extension": ".py",
   "mimetype": "text/x-python",
   "name": "python",
   "nbconvert_exporter": "python",
   "pygments_lexer": "ipython3",
   "version": "3.8.10"
  }
 },
 "nbformat": 4,
 "nbformat_minor": 5
}
