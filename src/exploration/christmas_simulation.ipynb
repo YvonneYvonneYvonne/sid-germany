{
 "cells": [
  {
   "cell_type": "code",
   "execution_count": 1,
   "metadata": {},
   "outputs": [],
   "source": [
    "from time import time\n",
    "\n",
    "import matplotlib.pyplot as plt\n",
    "import numpy as np\n",
    "import pandas as pd\n",
    "import seaborn as sns\n",
    "from sid import get_simulate_func\n",
    "from sid.time import get_date\n",
    "\n",
    "from src.config import BLD\n",
    "from src.contact_models.get_contact_models import (\n",
    "    get_all_contact_models,\n",
    "    get_christmas_contact_models,\n",
    ")\n",
    "from src.create_initial_states.create_initial_conditions import (\n",
    "    create_initial_conditions,\n",
    ")"
   ]
  },
  {
   "cell_type": "markdown",
   "metadata": {},
   "source": [
    "# Inputs that won't change"
   ]
  },
  {
   "cell_type": "code",
   "execution_count": 2,
   "metadata": {},
   "outputs": [],
   "source": [
    "params = pd.read_pickle(BLD / \"start_params.pkl\")\n",
    "params.to_csv(BLD / \"start_params.csv\")\n",
    "\n",
    "share_known_cases = pd.read_pickle(\n",
    "    BLD / \"data\" / \"processed_time_series\" / \"share_known_cases.pkl\"\n",
    ")"
   ]
  },
  {
   "cell_type": "markdown",
   "metadata": {},
   "source": [
    "# Inputs that will change"
   ]
  },
  {
   "cell_type": "code",
   "execution_count": 3,
   "metadata": {},
   "outputs": [],
   "source": [
    "# replace this with the full initial states later on\n",
    "df = pd.read_parquet(BLD / \"data\" / \"debug_initial_states.parquet\")\n",
    "\n",
    "# these will change depending on the scenario in which we are\n",
    "contact_models = get_all_contact_models(\"full\", 2)\n",
    "policies = None"
   ]
  },
  {
   "cell_type": "markdown",
   "metadata": {},
   "source": [
    "# This is only until we have estimated infection probabilities!"
   ]
  },
  {
   "cell_type": "code",
   "execution_count": 4,
   "metadata": {},
   "outputs": [],
   "source": [
    "def _build_infection_probs(names):\n",
    "    index_tuples = [(\"infection_prob\", mod_name, mod_name) for mod_name in names]\n",
    "    df = pd.DataFrame(index=pd.MultiIndex.from_tuples(index_tuples))\n",
    "    df.index.names = [\"category\", \"subcategory\", \"name\"]\n",
    "    df = df.reset_index()\n",
    "    prob_dict = {\n",
    "        \"educ\": 0.02,\n",
    "        \"work\": 0.1,\n",
    "        \"household\": 0.2,\n",
    "        \"other\": 0.1,\n",
    "        \"christmas\": 0.2,\n",
    "        \"holiday_preparation\": 0.1,\n",
    "    }\n",
    "    full_prob_dict = {}\n",
    "    for mod_name in names:\n",
    "        for k, v in prob_dict.items():\n",
    "            if k in mod_name:\n",
    "                full_prob_dict[mod_name] = v\n",
    "        assert (\n",
    "            mod_name in full_prob_dict\n",
    "        ), f\"No infection probability for {mod_name} specified.\"\n",
    "\n",
    "    df[\"value\"] = df[\"name\"].map(full_prob_dict.get)\n",
    "    df = df.set_index([\"category\", \"subcategory\", \"name\"])\n",
    "    return df"
   ]
  },
  {
   "cell_type": "code",
   "execution_count": 5,
   "metadata": {},
   "outputs": [
    {
     "data": {
      "text/html": [
       "<div>\n",
       "<style scoped>\n",
       "    .dataframe tbody tr th:only-of-type {\n",
       "        vertical-align: middle;\n",
       "    }\n",
       "\n",
       "    .dataframe tbody tr th {\n",
       "        vertical-align: top;\n",
       "    }\n",
       "\n",
       "    .dataframe thead th {\n",
       "        text-align: right;\n",
       "    }\n",
       "</style>\n",
       "<table border=\"1\" class=\"dataframe\">\n",
       "  <thead>\n",
       "    <tr style=\"text-align: right;\">\n",
       "      <th></th>\n",
       "      <th></th>\n",
       "      <th></th>\n",
       "      <th>value</th>\n",
       "    </tr>\n",
       "    <tr>\n",
       "      <th>category</th>\n",
       "      <th>subcategory</th>\n",
       "      <th>name</th>\n",
       "      <th></th>\n",
       "    </tr>\n",
       "  </thead>\n",
       "  <tbody>\n",
       "    <tr>\n",
       "      <th rowspan=\"5\" valign=\"top\">infection_prob</th>\n",
       "      <th>households</th>\n",
       "      <th>households</th>\n",
       "      <td>0.20</td>\n",
       "    </tr>\n",
       "    <tr>\n",
       "      <th>educ_school_0</th>\n",
       "      <th>educ_school_0</th>\n",
       "      <td>0.02</td>\n",
       "    </tr>\n",
       "    <tr>\n",
       "      <th>educ_school_1</th>\n",
       "      <th>educ_school_1</th>\n",
       "      <td>0.02</td>\n",
       "    </tr>\n",
       "    <tr>\n",
       "      <th>educ_school_2</th>\n",
       "      <th>educ_school_2</th>\n",
       "      <td>0.02</td>\n",
       "    </tr>\n",
       "    <tr>\n",
       "      <th>educ_preschool_0</th>\n",
       "      <th>educ_preschool_0</th>\n",
       "      <td>0.02</td>\n",
       "    </tr>\n",
       "  </tbody>\n",
       "</table>\n",
       "</div>"
      ],
      "text/plain": [
       "                                                  value\n",
       "category       subcategory      name                   \n",
       "infection_prob households       households         0.20\n",
       "               educ_school_0    educ_school_0      0.02\n",
       "               educ_school_1    educ_school_1      0.02\n",
       "               educ_school_2    educ_school_2      0.02\n",
       "               educ_preschool_0 educ_preschool_0   0.02"
      ]
     },
     "execution_count": 5,
     "metadata": {},
     "output_type": "execute_result"
    }
   ],
   "source": [
    "# set the infection probabilities\n",
    "infection_probs = _build_infection_probs(contact_models.keys())\n",
    "\n",
    "params = pd.concat([infection_probs, params])\n",
    "params.head()"
   ]
  },
  {
   "cell_type": "code",
   "execution_count": 7,
   "metadata": {},
   "outputs": [
    {
     "data": {
      "text/plain": [
       "Index(['households', 'educ_school_0', 'educ_school_1', 'educ_school_2',\n",
       "       'educ_preschool_0', 'educ_nursery_0', 'work_non_recurrent',\n",
       "       'work_recurrent_daily', 'work_recurrent_weekly_0',\n",
       "       'work_recurrent_weekly_1', 'work_recurrent_weekly_2',\n",
       "       'work_recurrent_weekly_3', 'work_recurrent_weekly_4',\n",
       "       'work_recurrent_weekly_5', 'work_recurrent_weekly_6',\n",
       "       'work_recurrent_weekly_7', 'work_recurrent_weekly_8',\n",
       "       'work_recurrent_weekly_9', 'work_recurrent_weekly_10',\n",
       "       'work_recurrent_weekly_11', 'work_recurrent_weekly_12',\n",
       "       'work_recurrent_weekly_13', 'other_non_recurrent',\n",
       "       'other_recurrent_daily', 'other_recurrent_weekly_0',\n",
       "       'other_recurrent_weekly_1', 'other_recurrent_weekly_2',\n",
       "       'other_recurrent_weekly_3', 'holiday_preparation', 'christmas_full_0',\n",
       "       'christmas_full_1', 'christmas_full_2'],\n",
       "      dtype='object', name='subcategory')"
      ]
     },
     "execution_count": 7,
     "metadata": {},
     "output_type": "execute_result"
    }
   ],
   "source": [
    "params.loc[\"infection_prob\"].index.get_level_values(\"subcategory\")"
   ]
  },
  {
   "cell_type": "code",
   "execution_count": 10,
   "metadata": {},
   "outputs": [
    {
     "name": "stderr",
     "output_type": "stream",
     "text": [
      "/home/klara/anaconda3/envs/sid-germany/lib/python3.8/site-packages/IPython/core/interactiveshell.py:2877: PerformanceWarning: indexing past lexsort depth may impact performance.\n",
      "  result = self._run_cell(\n"
     ]
    },
    {
     "data": {
      "text/html": [
       "<div>\n",
       "<style scoped>\n",
       "    .dataframe tbody tr th:only-of-type {\n",
       "        vertical-align: middle;\n",
       "    }\n",
       "\n",
       "    .dataframe tbody tr th {\n",
       "        vertical-align: top;\n",
       "    }\n",
       "\n",
       "    .dataframe thead th {\n",
       "        text-align: right;\n",
       "    }\n",
       "</style>\n",
       "<table border=\"1\" class=\"dataframe\">\n",
       "  <thead>\n",
       "    <tr style=\"text-align: right;\">\n",
       "      <th></th>\n",
       "      <th></th>\n",
       "      <th></th>\n",
       "      <th>value</th>\n",
       "    </tr>\n",
       "    <tr>\n",
       "      <th>category</th>\n",
       "      <th>subcategory</th>\n",
       "      <th>name</th>\n",
       "      <th></th>\n",
       "    </tr>\n",
       "  </thead>\n",
       "  <tbody>\n",
       "    <tr>\n",
       "      <th>other_recurrent_daily</th>\n",
       "      <th>contact_positive_test_multiplier</th>\n",
       "      <th>contact_positive_test_multiplier</th>\n",
       "      <td>0.05</td>\n",
       "    </tr>\n",
       "    <tr>\n",
       "      <th>other_recurrent_weekly_0</th>\n",
       "      <th>contact_positive_test_multiplier</th>\n",
       "      <th>contact_positive_test_multiplier</th>\n",
       "      <td>0.05</td>\n",
       "    </tr>\n",
       "    <tr>\n",
       "      <th>other_recurrent_weekly_1</th>\n",
       "      <th>contact_positive_test_multiplier</th>\n",
       "      <th>contact_positive_test_multiplier</th>\n",
       "      <td>0.05</td>\n",
       "    </tr>\n",
       "    <tr>\n",
       "      <th>other_recurrent_weekly_2</th>\n",
       "      <th>contact_positive_test_multiplier</th>\n",
       "      <th>contact_positive_test_multiplier</th>\n",
       "      <td>0.05</td>\n",
       "    </tr>\n",
       "    <tr>\n",
       "      <th>other_recurrent_weekly_3</th>\n",
       "      <th>contact_positive_test_multiplier</th>\n",
       "      <th>contact_positive_test_multiplier</th>\n",
       "      <td>0.05</td>\n",
       "    </tr>\n",
       "  </tbody>\n",
       "</table>\n",
       "</div>"
      ],
      "text/plain": [
       "                                                                                            value\n",
       "category                 subcategory                      name                                   \n",
       "other_recurrent_daily    contact_positive_test_multiplier contact_positive_test_multiplier   0.05\n",
       "other_recurrent_weekly_0 contact_positive_test_multiplier contact_positive_test_multiplier   0.05\n",
       "other_recurrent_weekly_1 contact_positive_test_multiplier contact_positive_test_multiplier   0.05\n",
       "other_recurrent_weekly_2 contact_positive_test_multiplier contact_positive_test_multiplier   0.05\n",
       "other_recurrent_weekly_3 contact_positive_test_multiplier contact_positive_test_multiplier   0.05"
      ]
     },
     "execution_count": 10,
     "metadata": {},
     "output_type": "execute_result"
    }
   ],
   "source": [
    "# set the degree of responsibility for self-isolation\n",
    "\n",
    "react_to_christmas_contact_multipliers = [\n",
    "    (\"contact_symptomatic_multiplier\", 0.15),\n",
    "    (\"contact_positive_test_multiplier\", 0.05),\n",
    "]\n",
    "\n",
    "models_with_post_christmas_isolation = [\n",
    "    # 'households',  <- all affected\n",
    "    # 'educ_school_0', 'educ_school_1', 'educ_school_2', <- vacation\n",
    "    # 'educ_preschool_0', 'educ_nursery_0', <- vacation\n",
    "    \"work_non_recurrent\",\n",
    "    \"work_recurrent_daily\",\n",
    "    \"work_recurrent_weekly_0\",\n",
    "    \"work_recurrent_weekly_1\",\n",
    "    \"work_recurrent_weekly_2\",\n",
    "    \"work_recurrent_weekly_3\",\n",
    "    \"work_recurrent_weekly_4\",\n",
    "    \"work_recurrent_weekly_5\",\n",
    "    \"work_recurrent_weekly_6\",\n",
    "    \"work_recurrent_weekly_7\",\n",
    "    \"work_recurrent_weekly_8\",\n",
    "    \"work_recurrent_weekly_9\",\n",
    "    \"work_recurrent_weekly_10\",\n",
    "    \"work_recurrent_weekly_11\",\n",
    "    \"work_recurrent_weekly_12\",\n",
    "    \"work_recurrent_weekly_13\",\n",
    "    \"other_non_recurrent\",\n",
    "    \"other_recurrent_daily\",\n",
    "    \"other_recurrent_weekly_0\",\n",
    "    \"other_recurrent_weekly_1\",\n",
    "    \"other_recurrent_weekly_2\",\n",
    "    \"other_recurrent_weekly_3\",\n",
    "    # 'holiday_preparation', 'christmas_full_0',\n",
    "    # 'christmas_full_1', 'christmas_full_2'\n",
    "]\n",
    "\n",
    "for name, multiplier in react_to_christmas_contact_multipliers:\n",
    "    for model in models_with_post_christmas_isolation:\n",
    "        params.loc[(model, name, name), \"value\"] = multiplier\n",
    "\n",
    "params.tail()"
   ]
  },
  {
   "cell_type": "markdown",
   "metadata": {},
   "source": [
    "# Create the initial conditions"
   ]
  },
  {
   "cell_type": "code",
   "execution_count": 5,
   "metadata": {},
   "outputs": [],
   "source": [
    "simulation_start = pd.Timestamp(\"2020-12-01\")\n",
    "initial_start = simulation_start - pd.Timedelta(weeks=2)\n",
    "simulation_end = simulation_start + pd.Timedelta(weeks=4)\n",
    "\n",
    "initial_conditions = create_initial_conditions(\n",
    "    start=initial_start,\n",
    "    end=simulation_start - pd.Timedelta(days=1),\n",
    "    reporting_delay=7,\n",
    "    seed=99,\n",
    ")"
   ]
  },
  {
   "cell_type": "markdown",
   "metadata": {},
   "source": [
    "# Run the simulation"
   ]
  },
  {
   "cell_type": "code",
   "execution_count": 6,
   "metadata": {
    "scrolled": true
   },
   "outputs": [],
   "source": [
    "simulate = get_simulate_func(\n",
    "    params=params,\n",
    "    initial_states=df,\n",
    "    contact_models=contact_models,\n",
    "    duration={\"start\": simulation_start, \"end\": simulation_end},\n",
    "    contact_policies=policies,\n",
    "    initial_conditions=initial_conditions,\n",
    "    events=None,\n",
    "    seed=384,\n",
    ")"
   ]
  },
  {
   "cell_type": "code",
   "execution_count": 7,
   "metadata": {
    "scrolled": false
   },
   "outputs": [
    {
     "name": "stderr",
     "output_type": "stream",
     "text": [
      "Start the simulation...\n",
      "2020-12-29: 100%|██████████| 29/29 [00:23<00:00,  1.22it/s]\n"
     ]
    }
   ],
   "source": [
    "res = simulate(params)"
   ]
  },
  {
   "cell_type": "code",
   "execution_count": null,
   "metadata": {},
   "outputs": [],
   "source": []
  },
  {
   "cell_type": "code",
   "execution_count": null,
   "metadata": {},
   "outputs": [],
   "source": []
  },
  {
   "cell_type": "code",
   "execution_count": null,
   "metadata": {},
   "outputs": [],
   "source": []
  },
  {
   "cell_type": "code",
   "execution_count": null,
   "metadata": {},
   "outputs": [],
   "source": []
  },
  {
   "cell_type": "code",
   "execution_count": null,
   "metadata": {},
   "outputs": [],
   "source": []
  }
 ],
 "metadata": {
  "kernelspec": {
   "display_name": "Python 3",
   "language": "python",
   "name": "python3"
  },
  "language_info": {
   "codemirror_mode": {
    "name": "ipython",
    "version": 3
   },
   "file_extension": ".py",
   "mimetype": "text/x-python",
   "name": "python",
   "nbconvert_exporter": "python",
   "pygments_lexer": "ipython3",
   "version": "3.8.6"
  }
 },
 "nbformat": 4,
 "nbformat_minor": 4
}
